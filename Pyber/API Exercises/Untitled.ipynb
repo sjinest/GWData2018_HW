{
 "cells": [
  {
   "cell_type": "code",
   "execution_count": 5,
   "metadata": {},
   "outputs": [],
   "source": [
    "import requests\n",
    "import json"
   ]
  },
  {
   "cell_type": "code",
   "execution_count": 6,
   "metadata": {},
   "outputs": [],
   "source": [
    "from pprint import pprint"
   ]
  },
  {
   "cell_type": "code",
   "execution_count": 7,
   "metadata": {},
   "outputs": [],
   "source": [
    "url = \"http://www.omdbapi.com/?t=\"\n",
    "api_key = \"&apikey=trilogy\""
   ]
  },
  {
   "cell_type": "code",
   "execution_count": 8,
   "metadata": {},
   "outputs": [
    {
     "name": "stdout",
     "output_type": "stream",
     "text": [
      "http://www.omdbapi.com/?t=Alien&apikey=trilogy\n"
     ]
    }
   ],
   "source": [
    "response = requests.get(url + \"Alien\" + api_key)\n",
    "print(response.url)"
   ]
  },
  {
   "cell_type": "code",
   "execution_count": 9,
   "metadata": {},
   "outputs": [
    {
     "name": "stdout",
     "output_type": "stream",
     "text": [
      "{'Actors': 'Tom Skerritt, Sigourney Weaver, Veronica Cartwright, Harry Dean '\n",
      "           'Stanton',\n",
      " 'Awards': 'Won 1 Oscar. Another 16 wins & 19 nominations.',\n",
      " 'BoxOffice': 'N/A',\n",
      " 'Country': 'UK, USA',\n",
      " 'DVD': '06 Jan 2004',\n",
      " 'Director': 'Ridley Scott',\n",
      " 'Genre': 'Horror, Sci-Fi',\n",
      " 'Language': 'English',\n",
      " 'Metascore': '83',\n",
      " 'Plot': 'After a space merchant vessel perceives an unknown transmission as a '\n",
      "         'distress call, its landing on the source moon finds one of the crew '\n",
      "         'attacked by a mysterious lifeform, and they soon realize that its '\n",
      "         'life cycle has merely begun.',\n",
      " 'Poster': 'https://images-na.ssl-images-amazon.com/images/M/MV5BNDNhN2IxZWItNGEwYS00ZDNhLThiM2UtODU3NWJlZjBkYjQxXkEyXkFqcGdeQXVyMTQxNzMzNDI@._V1_SX300.jpg',\n",
      " 'Production': '20th Century Fox',\n",
      " 'Rated': 'R',\n",
      " 'Ratings': [{'Source': 'Internet Movie Database', 'Value': '8.5/10'},\n",
      "             {'Source': 'Rotten Tomatoes', 'Value': '97%'},\n",
      "             {'Source': 'Metacritic', 'Value': '83/100'}],\n",
      " 'Released': '22 Jun 1979',\n",
      " 'Response': 'True',\n",
      " 'Runtime': '116 min',\n",
      " 'Title': 'Alien',\n",
      " 'Type': 'movie',\n",
      " 'Website': 'http://www.foxmovies.com/index1.html',\n",
      " 'Writer': \"Dan O'Bannon (story), Ronald Shusett (story), Dan O'Bannon \"\n",
      "           '(screenplay)',\n",
      " 'Year': '1979',\n",
      " 'imdbID': 'tt0078748',\n",
      " 'imdbRating': '8.5',\n",
      " 'imdbVotes': '655,688'}\n"
     ]
    }
   ],
   "source": [
    "data = response.json()\n",
    "pprint(data)"
   ]
  },
  {
   "cell_type": "code",
   "execution_count": null,
   "metadata": {},
   "outputs": [],
   "source": []
  }
 ],
 "metadata": {
  "kernelspec": {
   "display_name": "Python 3",
   "language": "python",
   "name": "python3"
  },
  "language_info": {
   "codemirror_mode": {
    "name": "ipython",
    "version": 3
   },
   "file_extension": ".py",
   "mimetype": "text/x-python",
   "name": "python",
   "nbconvert_exporter": "python",
   "pygments_lexer": "ipython3",
   "version": "3.6.3"
  }
 },
 "nbformat": 4,
 "nbformat_minor": 2
}
