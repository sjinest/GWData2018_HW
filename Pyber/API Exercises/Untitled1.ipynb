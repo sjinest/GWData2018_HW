{
 "cells": [
  {
   "cell_type": "code",
   "execution_count": 3,
   "metadata": {},
   "outputs": [],
   "source": [
    "# Dependencies\n",
    "import requests as req\n",
    "\n",
    "url = \"http://www.omdbapi.com/?apikey=40e9cece&t=\"\n",
    "\n",
    "# # Who was the director of the movie Aliens?\n",
    "# movie = req.get(url + \"Aliens\").json()\n",
    "# print(\"The director of Aliens was \" + movie[\"Director\"] + \".\")\n",
    "\n",
    "# # What was the movie Gladiator rated?\n",
    "# movie = req.get(url + \"Gladiator\").json()\n",
    "# print(\"The rating of Gladiator was \" + movie[\"Rated\"] + \".\")\n",
    "\n",
    "# # What year was 50 First Dates released?\n",
    "# movie = req.get(url + \"50 First Dates\").json()\n",
    "# print(\"The movie 50 First Dates was released in  \" + movie[\"Year\"] + \".\")\n",
    "\n",
    "# # Who wrote Moana?\n",
    "# movie = req.get(url + \"Moana\").json()\n",
    "# print(\"Moana was written by \" + movie[\"Writer\"] + \".\")\n",
    "\n",
    "# # What was the plot of the movie Sing?\n",
    "# movie = req.get(url + \"Sing\").json()\n",
    "# print(\"The plot of Sing was: '\" + movie[\"Plot\"] + \"'.\")\n",
    "\n",
    "# BONUS: Complete this activity with a loop."
   ]
  },
  {
   "cell_type": "code",
   "execution_count": 4,
   "metadata": {},
   "outputs": [
    {
     "name": "stdout",
     "output_type": "stream",
     "text": [
      "The director of Aliens was James Cameron.\n"
     ]
    }
   ],
   "source": [
    "# Who was the director of the movie Aliens?\n",
    "movie = req.get(url + \"Aliens\").json()\n",
    "print(\"The director of Aliens was \" + movie[\"Director\"] + \".\")"
   ]
  },
  {
   "cell_type": "code",
   "execution_count": 5,
   "metadata": {},
   "outputs": [
    {
     "name": "stdout",
     "output_type": "stream",
     "text": [
      "The rating of Gladiator was R.\n"
     ]
    }
   ],
   "source": [
    "# What was the movie Gladiator rated?\n",
    "movie = req.get(url + \"Gladiator\").json()\n",
    "print(\"The rating of Gladiator was \" + movie[\"Rated\"] + \".\")"
   ]
  },
  {
   "cell_type": "code",
   "execution_count": 7,
   "metadata": {},
   "outputs": [
    {
     "name": "stdout",
     "output_type": "stream",
     "text": [
      "The movie 50 First Dates was release in 2004.\n"
     ]
    }
   ],
   "source": [
    "# What year was 50 First Dates released?\n",
    "movie = req.get(url + \"50 First Dates\").json()\n",
    "print(\"The movie 50 First Dates was release in \" + movie[\"Year\"] + \".\")"
   ]
  },
  {
   "cell_type": "code",
   "execution_count": null,
   "metadata": {},
   "outputs": [],
   "source": []
  },
  {
   "cell_type": "code",
   "execution_count": 8,
   "metadata": {},
   "outputs": [
    {
     "name": "stdout",
     "output_type": "stream",
     "text": [
      "Jared Bush (screenplay by), Ron Clements (story by), John Musker (story by), Chris Williams (story by), Don Hall (story by), Pamela Ribon (story by), Aaron Kandell (story by), Jordan Kandell (story by) wrote Moana.\n"
     ]
    }
   ],
   "source": [
    "# Who wrote Moana?\n",
    "movie = req.get(url + \"Moana\").json()\n",
    "print(movie[\"Writer\"] + \" wrote Moana\" + \".\")"
   ]
  },
  {
   "cell_type": "code",
   "execution_count": 9,
   "metadata": {},
   "outputs": [
    {
     "name": "stdout",
     "output_type": "stream",
     "text": [
      "The plot of the movie Sing was In a city of humanoid animals, a hustling theater impresario's attempt to save his theater with a singing competition becomes grander than he anticipates even as its finalists' find that their lives will never be the same..\n"
     ]
    }
   ],
   "source": [
    "# What was the plot of the movie Sing?\n",
    "movie = req.get(url + \"Sing\").json()\n",
    "print(\"The plot of the movie Sing was \" + movie[\"Plot\"] + \".\")"
   ]
  },
  {
   "cell_type": "code",
   "execution_count": null,
   "metadata": {},
   "outputs": [],
   "source": []
  }
 ],
 "metadata": {
  "kernelspec": {
   "display_name": "Python 3",
   "language": "python",
   "name": "python3"
  },
  "language_info": {
   "codemirror_mode": {
    "name": "ipython",
    "version": 3
   },
   "file_extension": ".py",
   "mimetype": "text/x-python",
   "name": "python",
   "nbconvert_exporter": "python",
   "pygments_lexer": "ipython3",
   "version": "3.6.3"
  }
 },
 "nbformat": 4,
 "nbformat_minor": 2
}
