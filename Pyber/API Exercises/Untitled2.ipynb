{
 "cells": [
  {
   "cell_type": "code",
   "execution_count": 1,
   "metadata": {},
   "outputs": [],
   "source": [
    "import random\n",
    "import json\n",
    "import requests"
   ]
  },
  {
   "cell_type": "code",
   "execution_count": 2,
   "metadata": {},
   "outputs": [],
   "source": [
    "url = \"https://jsonplaceholder.typicode.com/posts/\""
   ]
  },
  {
   "cell_type": "code",
   "execution_count": 4,
   "metadata": {},
   "outputs": [],
   "source": [
    "#Because we're going to get back all the multiples, we need to save all the different responses since we're going to call the website repeatedly: send me more, send me more\n",
    "#The bracket indicates the iteration and that's where we want to store the responses\n",
    "response_json = []"
   ]
  },
  {
   "cell_type": "code",
   "execution_count": 5,
   "metadata": {},
   "outputs": [
    {
     "data": {
      "text/plain": [
       "[80, 76, 14, 33, 8, 10, 43, 61, 47, 54]"
      ]
     },
     "execution_count": 5,
     "metadata": {},
     "output_type": "execute_result"
    }
   ],
   "source": [
    "indices = random.sample(list(range(1, 100)), 10)\n",
    "indices"
   ]
  },
  {
   "cell_type": "code",
   "execution_count": 9,
   "metadata": {},
   "outputs": [
    {
     "name": "stdout",
     "output_type": "stream",
     "text": [
      "Making request number: 0 for ID: 80\n",
      "Making request number: 1 for ID: 76\n",
      "Making request number: 2 for ID: 14\n",
      "Making request number: 3 for ID: 33\n",
      "Making request number: 4 for ID: 8\n",
      "Making request number: 5 for ID: 10\n",
      "Making request number: 6 for ID: 43\n",
      "Making request number: 7 for ID: 61\n",
      "Making request number: 8 for ID: 47\n",
      "Making request number: 9 for ID: 54\n"
     ]
    }
   ],
   "source": [
    "#this is where we make a request for each of the indices\n",
    "for x in range(len(indices)):\n",
    "    print(f\"Making request number: {x} for ID: {indices[x]}\")\n",
    "    \n",
    "    #Get one of the posts\n",
    "    post_response = requests.get(url + str(indices[x]))\n",
    "    \n",
    "    #Save post's JSON\n",
    "    response_json.append(post_response.json())"
   ]
  },
  {
   "cell_type": "code",
   "execution_count": null,
   "metadata": {},
   "outputs": [],
   "source": []
  }
 ],
 "metadata": {
  "kernelspec": {
   "display_name": "Python 3",
   "language": "python",
   "name": "python3"
  },
  "language_info": {
   "codemirror_mode": {
    "name": "ipython",
    "version": 3
   },
   "file_extension": ".py",
   "mimetype": "text/x-python",
   "name": "python",
   "nbconvert_exporter": "python",
   "pygments_lexer": "ipython3",
   "version": "3.6.3"
  }
 },
 "nbformat": 4,
 "nbformat_minor": 2
}
