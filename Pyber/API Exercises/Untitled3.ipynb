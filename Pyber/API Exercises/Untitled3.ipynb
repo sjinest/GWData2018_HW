{
 "cells": [
  {
   "cell_type": "code",
   "execution_count": 8,
   "metadata": {},
   "outputs": [],
   "source": [
    "import requests"
   ]
  },
  {
   "cell_type": "code",
   "execution_count": 9,
   "metadata": {},
   "outputs": [],
   "source": [
    "url = \"http://www.omdbapi.com/?apikey=trilogy&t=\""
   ]
  },
  {
   "cell_type": "code",
   "execution_count": 10,
   "metadata": {},
   "outputs": [],
   "source": [
    "movies = [\"Alien\", \"Sing\", \"Moana\"]"
   ]
  },
  {
   "cell_type": "code",
   "execution_count": 11,
   "metadata": {},
   "outputs": [],
   "source": [
    "responses = [];"
   ]
  },
  {
   "cell_type": "code",
   "execution_count": 12,
   "metadata": {},
   "outputs": [
    {
     "name": "stdout",
     "output_type": "stream",
     "text": [
      "The director of Alien is Ridley Scott\n",
      "The director of Sing is Garth Jennings, Christophe Lourdelet(co-director)\n",
      "The director of Moana is Ron Clements, John Musker, Don Hall(co-director), Chris Williams(co-director)\n"
     ]
    }
   ],
   "source": [
    "for movie in movies:\n",
    "    movie_data = requests.get(url + movie).json()\n",
    "    responses.append(movie_data)\n",
    "    print(f'The director of {movie} is {movie_data[\"Director\"]}')"
   ]
  }
 ],
 "metadata": {
  "kernelspec": {
   "display_name": "Python 3",
   "language": "python",
   "name": "python3"
  },
  "language_info": {
   "codemirror_mode": {
    "name": "ipython",
    "version": 3
   },
   "file_extension": ".py",
   "mimetype": "text/x-python",
   "name": "python",
   "nbconvert_exporter": "python",
   "pygments_lexer": "ipython3",
   "version": "3.6.3"
  }
 },
 "nbformat": 4,
 "nbformat_minor": 2
}
